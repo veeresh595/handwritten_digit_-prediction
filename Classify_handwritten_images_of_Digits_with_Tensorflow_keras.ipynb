{
  "nbformat": 4,
  "nbformat_minor": 5,
  "metadata": {
    "kernelspec": {
      "display_name": "Python 3",
      "language": "python",
      "name": "python3"
    },
    "language_info": {
      "codemirror_mode": {
        "name": "ipython",
        "version": 3
      },
      "file_extension": ".py",
      "mimetype": "text/x-python",
      "name": "python",
      "nbconvert_exporter": "python",
      "pygments_lexer": "ipython3",
      "version": "3.8.8"
    },
    "colab": {
      "name": "Classify handwritten images of Digits with Tensorflow keras.ipynb",
      "provenance": []
    }
  },
  "cells": [
    {
      "cell_type": "markdown",
      "metadata": {
        "id": "2831fa17"
      },
      "source": [
        "<h1 align='center' style=\"color:#008c73;\"> MNIST Handwritten Digit Classification Dataset </h1>"
      ],
      "id": "2831fa17"
    },
    {
      "cell_type": "markdown",
      "metadata": {
        "id": "be79886d"
      },
      "source": [
        "* The `MNIST dataset` is an acronym that stands for the `Modified National Institute of Standards and Technology dataset`.\n",
        "\n",
        "* It is a dataset of `60,000` small square `28×28` pixel grayscale images of handwritten single digits between `0 and 9`.\n",
        "\n",
        "<b style=\"color:red;\">Task:</b> classify a given image of a handwritten digit into one of `10 classes` representing integer values from `0 to 9`, inclusively.\n",
        "<img src=\"https://live.staticflickr.com/65535/51179622819_fd50668be9_o.png\" width=\"640\" height=\"16\" alt=\"Divider Line\">"
      ],
      "id": "be79886d"
    },
    {
      "cell_type": "markdown",
      "metadata": {
        "id": "668838ed"
      },
      "source": [
        "<h2 align='center' style=\"color:#9a159f;\"> Setting up the Environment </h2>"
      ],
      "id": "668838ed"
    },
    {
      "cell_type": "code",
      "metadata": {
        "id": "c41dcd3b",
        "outputId": "2b8a79b3-fd38-4dbe-eefd-952879805f6b"
      },
      "source": [
        "#------------------------------- TensorFlow and tf.keras\n",
        "import tensorflow as tf\n",
        "from tensorflow import keras\n",
        "print(\"TensorFlow Version :\" ,tf.__version__)\n",
        "\n",
        "#------------------------------- Helper libraries\n",
        "import numpy as np\n",
        "import matplotlib.pyplot as plt\n",
        "import seaborn as sns\n",
        "import warnings\n",
        "warnings.filterwarnings('ignore')\n"
      ],
      "id": "c41dcd3b",
      "execution_count": null,
      "outputs": [
        {
          "output_type": "stream",
          "text": [
            "TensorFlow Version : 2.4.1\n"
          ],
          "name": "stdout"
        }
      ]
    },
    {
      "cell_type": "markdown",
      "metadata": {
        "id": "9d4646e7"
      },
      "source": [
        "<h2 align='center' style=\"color:#9a159f;\"> Importing the Dataset </h2>\n"
      ],
      "id": "9d4646e7"
    },
    {
      "cell_type": "code",
      "metadata": {
        "id": "1dffe5ee"
      },
      "source": [
        "from tensorflow.keras.datasets import mnist\n",
        "\n",
        "(x_train, y_train), (x_test, y_test) = mnist.load_data()"
      ],
      "id": "1dffe5ee",
      "execution_count": null,
      "outputs": []
    },
    {
      "cell_type": "markdown",
      "metadata": {
        "id": "186d048a"
      },
      "source": [
        "<h2 align='center' style=\"color:#9a159f;\">  Data Analysis </h2>\n",
        "<img src=\"https://live.staticflickr.com/65535/51177056047_3648a68e8c_z.jpg\">\n"
      ],
      "id": "186d048a"
    },
    {
      "cell_type": "code",
      "metadata": {
        "id": "3b49080d",
        "outputId": "5729c604-8643-45ca-ccd8-797ad45c95c4"
      },
      "source": [
        "print(\"Training Images Size and Shape\", x_train.shape,y_train.shape)\n",
        "\n",
        "print(\"Testing Images Size and Shape\", x_test.shape,y_test.shape)"
      ],
      "id": "3b49080d",
      "execution_count": null,
      "outputs": [
        {
          "output_type": "stream",
          "text": [
            "Training Images Size and Shape (60000, 28, 28) (60000,)\n",
            "Testing Images Size and Shape (10000, 28, 28) (10000,)\n"
          ],
          "name": "stdout"
        }
      ]
    },
    {
      "cell_type": "code",
      "metadata": {
        "id": "8b1e8324",
        "outputId": "6b9641be-09a3-4d6d-ba39-f825b9e8fcb3"
      },
      "source": [
        "ax = sns.countplot(y_train)\n",
        "ax.set(xlabel =\"Digits\", ylabel = \"No. of Values\", title ='Count Plot');\n",
        "sns.set(font_scale=1.3)"
      ],
      "id": "8b1e8324",
      "execution_count": null,
      "outputs": [
        {
          "output_type": "display_data",
          "data": {
            "image/png": "[encoded data removed]",
            "text/plain": [
              "<Figure size 432x288 with 1 Axes>"
            ]
          },
          "metadata": {
            "tags": [],
            "needs_background": "light"
          }
        }
      ]
    },
    {
      "cell_type": "code",
      "metadata": {
        "id": "fb053ad8",
        "outputId": "bd1302ca-a107-428c-b6bf-85987cd5faee"
      },
      "source": [
        "# Training Data Unique Values and unique Values count\n",
        "\n",
        "unique_val_train, unique_val_count_train = np.unique(y_train, return_counts=True)\n",
        "unique_train_dict = dict(zip(unique_val_train, unique_val_count_train))\n",
        "print(unique_train_dict)"
      ],
      "id": "fb053ad8",
      "execution_count": null,
      "outputs": [
        {
          "output_type": "stream",
          "text": [
            "{0: 5923, 1: 6742, 2: 5958, 3: 6131, 4: 5842, 5: 5421, 6: 5918, 7: 6265, 8: 5851, 9: 5949}\n"
          ],
          "name": "stdout"
        }
      ]
    },
    {
      "cell_type": "markdown",
      "metadata": {
        "id": "60fdc786"
      },
      "source": [
        "<b> In Training data each digit total count is near to `6000`. All digits have same range of training data. So with this data model cant biased. </b>"
      ],
      "id": "60fdc786"
    },
    {
      "cell_type": "code",
      "metadata": {
        "id": "102cfbc9",
        "outputId": "9c1dbfad-eba8-4606-d262-18e360f04544"
      },
      "source": [
        "# Testing Data Unique Values and unique Values count\n",
        "\n",
        "unique_val_test, unique_val_count_test = np.unique(y_test, return_counts=True)\n",
        "unique_test_dict = dict(zip(unique_val_test, unique_val_count_test))\n",
        "unique_test_dict"
      ],
      "id": "102cfbc9",
      "execution_count": null,
      "outputs": [
        {
          "output_type": "execute_result",
          "data": {
            "text/plain": [
              "{0: 980,\n",
              " 1: 1135,\n",
              " 2: 1032,\n",
              " 3: 1010,\n",
              " 4: 982,\n",
              " 5: 892,\n",
              " 6: 958,\n",
              " 7: 1028,\n",
              " 8: 974,\n",
              " 9: 1009}"
            ]
          },
          "metadata": {
            "tags": []
          },
          "execution_count": 6
        }
      ]
    },
    {
      "cell_type": "code",
      "metadata": {
        "id": "3cf6106b"
      },
      "source": [
        "# Created a List with Digit Names\n",
        "digit_names = ['0','1','2','3','4','5','6','7','8','9']"
      ],
      "id": "3cf6106b",
      "execution_count": null,
      "outputs": []
    },
    {
      "cell_type": "markdown",
      "metadata": {
        "id": "e29e2bed"
      },
      "source": [
        "<h3 style=\"color:blue;\"> Checking the one sample image from the Data </h3>"
      ],
      "id": "e29e2bed"
    },
    {
      "cell_type": "code",
      "metadata": {
        "scrolled": true,
        "id": "fdce8b99",
        "outputId": "1c029ca2-99f1-4414-adbd-a6609e79070c"
      },
      "source": [
        "plt.figure()\n",
        "plt.imshow(x_train[11], cmap='summer')\n",
        "plt.colorbar()\n",
        "plt.grid()\n",
        "plt.show()"
      ],
      "id": "fdce8b99",
      "execution_count": null,
      "outputs": [
        {
          "output_type": "display_data",
          "data": {
            "image/png": "[encoded data removed]",
            "text/plain": [
              "<Figure size 432x288 with 2 Axes>"
            ]
          },
          "metadata": {
            "tags": []
          }
        }
      ]
    },
    {
      "cell_type": "code",
      "metadata": {
        "id": "ae26c9d4",
        "outputId": "3c4c1208-7c52-46a6-e47f-6b069cdc25ca"
      },
      "source": [
        "y_train[11]"
      ],
      "id": "ae26c9d4",
      "execution_count": null,
      "outputs": [
        {
          "output_type": "execute_result",
          "data": {
            "text/plain": [
              "5"
            ]
          },
          "metadata": {
            "tags": []
          },
          "execution_count": 9
        }
      ]
    },
    {
      "cell_type": "code",
      "metadata": {
        "id": "63013ef3",
        "outputId": "93a8c056-be38-4c6d-b96e-d8a16b9287af"
      },
      "source": [
        "x_train[11].min(), x_train[11].max()  # x_train Pixel Range"
      ],
      "id": "63013ef3",
      "execution_count": null,
      "outputs": [
        {
          "output_type": "execute_result",
          "data": {
            "text/plain": [
              "(0, 255)"
            ]
          },
          "metadata": {
            "tags": []
          },
          "execution_count": 10
        }
      ]
    },
    {
      "cell_type": "code",
      "metadata": {
        "id": "f85a3f71",
        "outputId": "abe8151c-16a0-4025-bb9d-310e4a52446c"
      },
      "source": [
        "unique_val_11, unique_val_count_11 = np.unique(x_train[11], return_counts=True)\n",
        "unique_val_11, unique_val_count_11\n",
        "\n",
        "# This step clearly showing that the image colors are varying from 0 to 255. \n",
        "# As per our fundamentals we know that the color values range is between 0 to 255. \n",
        "# With this we clearly checked the colors range"
      ],
      "id": "f85a3f71",
      "execution_count": null,
      "outputs": [
        {
          "output_type": "execute_result",
          "data": {
            "text/plain": [
              "(array([  0,   3,   6,   8,  10,  12,  14,  18,  19,  20,  25,  30,  31,\n",
              "         39,  40,  41,  50,  55,  58,  68,  69,  78,  79,  83,  92,  98,\n",
              "        108, 116, 121, 128, 129, 132, 134, 144, 145, 150, 154, 156, 159,\n",
              "        165, 167, 180, 185, 201, 203, 205, 215, 217, 222, 223, 226, 231,\n",
              "        233, 234, 235, 236, 239, 241, 245, 253, 254, 255], dtype=uint8),\n",
              " array([693,   1,   1,   3,   1,   1,   1,   1,   1,   1,   1,   1,   1,\n",
              "          2,   1,   1,   1,   1,   1,   1,   1,   2,   1,   1,   1,   1,\n",
              "          1,   1,   1,   1,   2,   1,   1,   1,   1,   2,   1,   1,   1,\n",
              "          1,   1,   1,   1,   2,   1,   1,   1,   1,   1,   1,   1,   1,\n",
              "          2,   3,   1,   1,   1,   2,   2,  10,  10,   1], dtype=int64))"
            ]
          },
          "metadata": {
            "tags": []
          },
          "execution_count": 11
        }
      ]
    },
    {
      "cell_type": "markdown",
      "metadata": {
        "id": "1153f3a0"
      },
      "source": [
        "<img src=\"https://live.staticflickr.com/65535/51177056047_3648a68e8c_z.jpg\">\n",
        "<h2 align='center' style=\"color:#9a159f;\">  Preprocessing the Data</h2>\n",
        "\n",
        "The data must be preprocessed before training the network. If you inspect the <b> y_train[11] </b> image in the training set, you will see that the pixel values fall in the range of 0 to 255:"
      ],
      "id": "1153f3a0"
    },
    {
      "cell_type": "code",
      "metadata": {
        "id": "79d6dc55",
        "outputId": "9e695c90-5e56-4606-b611-40c6fb5636d7"
      },
      "source": [
        "print(\"Before Preprocessing the Data checking the One Image from the Data\")\n",
        "plt.figure()\n",
        "plt.imshow(x_train[11])\n",
        "plt.colorbar()\n",
        "plt.grid()\n",
        "plt.show()"
      ],
      "id": "79d6dc55",
      "execution_count": null,
      "outputs": [
        {
          "output_type": "stream",
          "text": [
            "Before Preprocessing the Data checking the One Image from the Data\n"
          ],
          "name": "stdout"
        },
        {
          "output_type": "display_data",
          "data": {
            "image/png": "[encoded data removed]",
            "text/plain": [
              "<Figure size 432x288 with 2 Axes>"
            ]
          },
          "metadata": {
            "tags": []
          }
        }
      ]
    },
    {
      "cell_type": "markdown",
      "metadata": {
        "id": "37c07a1d"
      },
      "source": [
        "* Images are comprised of matrices of pixel values.\n",
        "\n",
        "* Pixel values are often unsigned integers in the range between `0 and 255 `. Although these pixel values can be presented directly to neural network models in their raw format, this can result in challenges during modeling, such as in the slower than expected training of the model.\n",
        "\n",
        "* Instead, there can be great benefit in preparing the image pixel values prior to modeling, such as simply scaling pixel values to the range <b>0-1</b> to centering and even standardizing the values.\n",
        "\n",
        "* Neural networks process inputs using small weight values, and inputs with large integer values can disrupt or slow down the learning process. As such it is good practice to normalize the pixel values so that each pixel value has a value between 0 and 1.\n",
        "\n",
        "#### This can be achieved by dividing all pixels values by the largest pixel value; that is 255\n",
        "<img src=\"https://live.staticflickr.com/65535/51177056047_3648a68e8c_z.jpg\">\n",
        "\n",
        "### <b>Preprocessing:</b>"
      ],
      "id": "37c07a1d"
    },
    {
      "cell_type": "code",
      "metadata": {
        "id": "0ba613d3"
      },
      "source": [
        "x_train = x_train / 255.0         # Training Data\n",
        "\n",
        "x_test = x_test / 255.0           # Testing Data"
      ],
      "id": "0ba613d3",
      "execution_count": null,
      "outputs": []
    },
    {
      "cell_type": "markdown",
      "metadata": {
        "id": "e02e6cf3"
      },
      "source": [
        "### Checking the changes After Preprocessing "
      ],
      "id": "e02e6cf3"
    },
    {
      "cell_type": "code",
      "metadata": {
        "id": "4fbea004",
        "outputId": "490e1724-ca08-4448-d277-a34914a97351"
      },
      "source": [
        "print(\"After Preprocessed the Data checking the same x_train[11] Image from the Data\")\n",
        "plt.figure()\n",
        "plt.imshow(x_train[11])\n",
        "plt.colorbar()\n",
        "plt.grid()\n",
        "plt.show()"
      ],
      "id": "4fbea004",
      "execution_count": null,
      "outputs": [
        {
          "output_type": "stream",
          "text": [
            "After Preprocessed the Data checking the same x_train[11] Image from the Data\n"
          ],
          "name": "stdout"
        },
        {
          "output_type": "display_data",
          "data": {
            "image/png": "[encoded data removed]",
            "text/plain": [
              "<Figure size 432x288 with 2 Axes>"
            ]
          },
          "metadata": {
            "tags": []
          }
        }
      ]
    },
    {
      "cell_type": "code",
      "metadata": {
        "id": "8bc3b21f",
        "outputId": "2b37b469-2b85-408b-e9c3-649902f9ab69"
      },
      "source": [
        "x_train[11].min(), x_train[11].max()  # Pixel range after Preprocessing"
      ],
      "id": "8bc3b21f",
      "execution_count": null,
      "outputs": [
        {
          "output_type": "execute_result",
          "data": {
            "text/plain": [
              "(0.0, 1.0)"
            ]
          },
          "metadata": {
            "tags": []
          },
          "execution_count": 15
        }
      ]
    },
    {
      "cell_type": "code",
      "metadata": {
        "id": "3d1e196e",
        "outputId": "0a7fe07f-cf3f-4386-eace-fa6cd38d6c81"
      },
      "source": [
        "# Checking Pixcel Ranges\n",
        "print(\"Pixcel Range Before and After Preprocessing the Data: \" , '\\n', )\n",
        "unique_val_11_pre = np.unique(x_train[11])\n",
        "\n",
        "print(\"Before Preprocessing the Data checking the x_train[11] Image pixel values:\", '\\n')\n",
        "print(unique_val_11, '\\n')\n",
        "\n",
        "print(\"After Preprocessing the Data checking the same x_train[11] Image pixel values:\", '\\n')\n",
        "print(unique_val_11_pre)\n"
      ],
      "id": "3d1e196e",
      "execution_count": null,
      "outputs": [
        {
          "output_type": "stream",
          "text": [
            "Pixcel Range Before and After Preprocessing the Data:  \n",
            "\n",
            "Before Preprocessing the Data checking the x_train[11] Image pixel values: \n",
            "\n",
            "[  0   3   6   8  10  12  14  18  19  20  25  30  31  39  40  41  50  55\n",
            "  58  68  69  78  79  83  92  98 108 116 121 128 129 132 134 144 145 150\n",
            " 154 156 159 165 167 180 185 201 203 205 215 217 222 223 226 231 233 234\n",
            " 235 236 239 241 245 253 254 255] \n",
            "\n",
            "After Preprocessing the Data checking the same x_train[11] Image pixel values: \n",
            "\n",
            "[0.         0.01176471 0.02352941 0.03137255 0.03921569 0.04705882\n",
            " 0.05490196 0.07058824 0.0745098  0.07843137 0.09803922 0.11764706\n",
            " 0.12156863 0.15294118 0.15686275 0.16078431 0.19607843 0.21568627\n",
            " 0.22745098 0.26666667 0.27058824 0.30588235 0.30980392 0.3254902\n",
            " 0.36078431 0.38431373 0.42352941 0.45490196 0.4745098  0.50196078\n",
            " 0.50588235 0.51764706 0.5254902  0.56470588 0.56862745 0.58823529\n",
            " 0.60392157 0.61176471 0.62352941 0.64705882 0.65490196 0.70588235\n",
            " 0.7254902  0.78823529 0.79607843 0.80392157 0.84313725 0.85098039\n",
            " 0.87058824 0.8745098  0.88627451 0.90588235 0.91372549 0.91764706\n",
            " 0.92156863 0.9254902  0.9372549  0.94509804 0.96078431 0.99215686\n",
            " 0.99607843 1.        ]\n"
          ],
          "name": "stdout"
        }
      ]
    },
    {
      "cell_type": "markdown",
      "metadata": {
        "id": "99c7d449"
      },
      "source": [
        "> So the above step clearly showing that after the preprocessing the data the image pixels range are chenged from <b>(0 to 255) to (0 to 1)"
      ],
      "id": "99c7d449"
    },
    {
      "cell_type": "markdown",
      "metadata": {
        "id": "1565e6bf"
      },
      "source": [
        "### Trying to print all the digits images at one place"
      ],
      "id": "1565e6bf"
    },
    {
      "cell_type": "code",
      "metadata": {
        "id": "044c2f9f",
        "outputId": "c074eb97-7c12-4b79-b1a8-36a5d883b8c4"
      },
      "source": [
        "digit_names = ['0','1','2','3','4','5','6','7','8','9']\n",
        "plt.figure(figsize=(10,10))\n",
        "for i in range(25):\n",
        "    plt.subplot(5,5,i+1)\n",
        "    plt.xticks([]) \n",
        "    plt.yticks([])\n",
        "    plt.grid(False)\n",
        "    plt.imshow(x_train[i], cmap='summer')\n",
        "    plt.xlabel(digit_names[y_train[i]])\n",
        "plt.show()"
      ],
      "id": "044c2f9f",
      "execution_count": null,
      "outputs": [
        {
          "output_type": "display_data",
          "data": {
            "image/png": "[encoded data removed]",
            "text/plain": [
              "<Figure size 720x720 with 25 Axes>"
            ]
          },
          "metadata": {
            "tags": []
          }
        }
      ]
    },
    {
      "cell_type": "markdown",
      "metadata": {
        "id": "50ab0d34"
      },
      "source": [
        "<img src=\"https://live.staticflickr.com/65535/51177056047_3648a68e8c_z.jpg\">\n",
        "<h1 align='center' style=\"color:#9a159f;\">  Constructing the model </h1>\n",
        "<img src=\"https://live.staticflickr.com/65535/51179715169_72c11a424c_o.png\" width=\"320\" height=\"291\" alt=\"pngkey.com-technology-icon-png-8762622\">\n",
        "Building the neural network requires configuring the layers of the model, then compiling the model.\n",
        "\n",
        "<h3 style=\"color:blue;\"> <u>Set up the layers</u> : </h3>\n",
        "\n",
        "The basic building block of a neural network is the layer. Layers extract representations from the data fed into them. Hopefully, these representations are meaningful for the problem at hand.\n",
        "\n",
        "Most of deep learning consists of chaining together simple layers. Most layers, such as tf.keras.layers.Dense, have parameters that are learned during training."
      ],
      "id": "50ab0d34"
    },
    {
      "cell_type": "code",
      "metadata": {
        "id": "1768df53"
      },
      "source": [
        "# Creating Basic Model with Layers\n",
        "\n",
        "base_model = tf.keras.Sequential([\n",
        "    tf.keras.layers.Flatten(input_shape=(28, 28)),\n",
        "    tf.keras.layers.Dense(128, activation='relu'),\n",
        "    tf.keras.layers.Dense(128, activation='relu'),\n",
        "    tf.keras.layers.Dense(10,activation='softmax')\n",
        "])"
      ],
      "id": "1768df53",
      "execution_count": null,
      "outputs": []
    },
    {
      "cell_type": "markdown",
      "metadata": {
        "id": "78456810"
      },
      "source": [
        "The first layer in this network, tf.keras.layers.Flatten, transforms the format of the images from a two-dimensional array (of 28 by 28 pixels) to a one-dimensional array (of 28 * 28 = 784 pixels). Think of this layer as unstacking rows of pixels in the image and lining them up. This layer has no parameters to learn; it only reformats the data.\n",
        "\n",
        "After the pixels are flattened, the network consists of a sequence of two tf.keras.layers.Dense layers. These are densely connected, or fully connected, neural layers. The first Dense layer has 128 nodes (or neurons). The second (and last) layer returns a logits array with length of 10. Each node contains a score that indicates the current image belongs to one of the 10 classes.\n",
        "\n",
        "#### Available activation Functions\n",
        "* relu function\n",
        "* sigmoid function\n",
        "* softmax function\n",
        "* softplus function\n",
        "* softsign function\n",
        "* tanh function\n",
        "* selu function\n",
        "* elu function\n",
        "* exponential function\n",
        "\n",
        "`A neural network without an activation function is essentially just a linear regression model.`\n",
        "\n",
        "<b> We used `relu` and `softmax` activation Functions</b>"
      ],
      "id": "78456810"
    },
    {
      "cell_type": "markdown",
      "metadata": {
        "id": "40e09073"
      },
      "source": [
        "<p style=\"font-size:20px;\">\n",
        "<img src=\"https://live.staticflickr.com/65535/51179155168_fc45e1bbca_o.png\" style=\"float:left;width:22px;height:22px;\">\n",
        "    <b style=\"color:blue;\">Compile the model</b>\n",
        "</p>\n",
        "\n",
        "\n",
        "\n",
        "Before the model is ready for training, it needs a few more settings. These are added during the model's compile step:\n",
        "\n",
        "* `Loss function` —This measures how accurate the model is during training. You want to minimize this function to \"steer\" the model in the right direction.\n",
        "* `Optimizer` —This is how the model is updated based on the data it sees and its loss function.\n",
        "* `Metrics` —Used to monitor the training and testing steps. The following example uses accuracy, the fraction of the images that are correctly classified."
      ],
      "id": "40e09073"
    },
    {
      "cell_type": "code",
      "metadata": {
        "id": "74949e2b"
      },
      "source": [
        "base_model.compile(optimizer='adam',\n",
        "              loss=tf.keras.losses.SparseCategoricalCrossentropy(from_logits=True),\n",
        "              metrics=['accuracy'])"
      ],
      "id": "74949e2b",
      "execution_count": null,
      "outputs": []
    },
    {
      "cell_type": "markdown",
      "metadata": {
        "id": "9310d7ce"
      },
      "source": [
        "<p style=\"font-size:20px;\">\n",
        "<img src=\"https://live.staticflickr.com/65535/51179171413_63ea6a9878_o.png\" style=\"float:left;width:42px;height:42px;\">\n",
        "    <b style=\"color:blue;\">Train the model</b>\n",
        "</p>\n",
        "Training the neural network model requires the following steps:\n",
        "\n",
        "    * Feed the training data to the model. In this example, the training data is in the x_train and y_train arrays.\n",
        "    * The model learns to associate images and labels.\n",
        "To start training, call the model.fit method—so called because it \"fits\" the model to the training data:"
      ],
      "id": "9310d7ce"
    },
    {
      "cell_type": "code",
      "metadata": {
        "id": "be822f6d",
        "outputId": "8f2e2af1-1f34-4880-8e49-8b10e0380873"
      },
      "source": [
        "base_model.fit(x_train, y_train, epochs=10, batch_size=5);"
      ],
      "id": "be822f6d",
      "execution_count": null,
      "outputs": [
        {
          "output_type": "stream",
          "text": [
            "Epoch 1/10\n",
            "12000/12000 [==============================] - 9s 671us/step - loss: 0.3200 - accuracy: 0.9029\n",
            "Epoch 2/10\n",
            "12000/12000 [==============================] - 8s 640us/step - loss: 0.1016 - accuracy: 0.9683\n",
            "Epoch 3/10\n",
            "12000/12000 [==============================] - 8s 640us/step - loss: 0.0761 - accuracy: 0.9766\n",
            "Epoch 4/10\n",
            "12000/12000 [==============================] - 8s 646us/step - loss: 0.0572 - accuracy: 0.9829\n",
            "Epoch 5/10\n",
            "12000/12000 [==============================] - 9s 727us/step - loss: 0.0501 - accuracy: 0.9846\n",
            "Epoch 6/10\n",
            "12000/12000 [==============================] - 11s 905us/step - loss: 0.0435 - accuracy: 0.9866\n",
            "Epoch 7/10\n",
            "12000/12000 [==============================] - 10s 811us/step - loss: 0.0376 - accuracy: 0.9895\n",
            "Epoch 8/10\n",
            "12000/12000 [==============================] - 9s 747us/step - loss: 0.0354 - accuracy: 0.9888\n",
            "Epoch 9/10\n",
            "12000/12000 [==============================] - 8s 692us/step - loss: 0.0354 - accuracy: 0.9910\n",
            "Epoch 10/10\n",
            "12000/12000 [==============================] - 8s 693us/step - loss: 0.0286 - accuracy: 0.9921\n"
          ],
          "name": "stdout"
        }
      ]
    },
    {
      "cell_type": "markdown",
      "metadata": {
        "id": "e69f0c73"
      },
      "source": [
        ">As the model trains, the loss and accuracy metrics are displayed. This model reaches an accuracy of about 0.99 (or 99%) on the training data.\n",
        "\n",
        "<p style=\"font-size:20px;\">\n",
        "<img src=\"https://live.staticflickr.com/65535/51178283347_e1a9416536_o.png\" style=\"float:left;width:42px;height:42px;\"><br>\n",
        "    <b style=\"color:blue;\">Evaluating the model accuracy</b>\n",
        "</p>\n",
        "Next, compare how the model performs on the test dataset:"
      ],
      "id": "e69f0c73"
    },
    {
      "cell_type": "code",
      "metadata": {
        "id": "e9fd8797",
        "outputId": "e6a0069b-4691-4c1f-9b0e-2cc792d79cea"
      },
      "source": [
        "loss_base,acc_base = base_model.evaluate(x_test,  y_test)\n",
        "\n",
        "print('\\nTest accuracy:', acc_base)"
      ],
      "id": "e9fd8797",
      "execution_count": null,
      "outputs": [
        {
          "output_type": "stream",
          "text": [
            "313/313 [==============================] - 0s 538us/step - loss: 0.1595 - accuracy: 0.9747\n",
            "\n",
            "Test accuracy: 0.9746999740600586\n"
          ],
          "name": "stdout"
        }
      ]
    },
    {
      "cell_type": "markdown",
      "metadata": {
        "id": "d6eb20cf"
      },
      "source": [
        "### Model Analysis:\n",
        "\n",
        "* The model trained well with accuracy: 0.9912 but it does not generalize well on Testing Data\n",
        "* Model testing accuracy is 0.9788\n",
        "* There is value difference between Training accuracy and Testing Accuracy\n",
        "\n",
        "`So Model is Overfitting`\n",
        "\n",
        "<b style=\"color:green;\"><i>To Reduce the Model overfitting we followed below steps:</i></b>\n",
        "\n",
        "<b style=\"color:red;\">No</b> | <b style=\"color:red;\">Tunning Technique</b>\n",
        "---|-----------\n",
        "<i>Tunning 1</i>| <b>Simplifying the model</b>\n",
        "<i>Tunning 2</i>| <b>Adding Dropout</b>\n",
        "<i>Tunning 3</i>| <b>Droped One Activation funtion</b>\n",
        "<i>Tunning 4</i>| <b>Call Back with Early Stoping</b>"
      ],
      "id": "d6eb20cf"
    },
    {
      "cell_type": "markdown",
      "metadata": {
        "id": "871fd5bd"
      },
      "source": [
        "### Tunning the Model\n",
        "\n",
        "#### Tunning 1: Simplifying the model\n",
        "* The first step when dealing with overfitting is to decrease the complexity of the model. In the given base model, there are 3 hidden Layers, Two with 128 and one with 10 neurons.To decrease the complexity, we can simply remove layers or reduce the number of neurons in order to make our network smaller."
      ],
      "id": "871fd5bd"
    },
    {
      "cell_type": "code",
      "metadata": {
        "id": "f037467e",
        "outputId": "55592acc-bf86-4ca1-d800-a550c3015241"
      },
      "source": [
        "model_tune1 = tf.keras.Sequential([\n",
        "    tf.keras.layers.Flatten(input_shape=(28, 28)),\n",
        "    tf.keras.layers.Dense(128, activation='relu'),\n",
        "    tf.keras.layers.Dense(64, activation='relu'),\n",
        "    tf.keras.layers.Dense(10,activation='softmax')\n",
        "])\n",
        "model_tune1.compile(optimizer='adam',\n",
        "              loss=tf.keras.losses.SparseCategoricalCrossentropy(from_logits=True),\n",
        "              metrics=['accuracy'])\n",
        "model_tune1.fit(x_train, y_train, epochs=10, batch_size=5);\n",
        "print('\\n')\n",
        "loss1,acc1 = model_tune1.evaluate(x_test,  y_test)\n",
        "\n",
        "print('\\nTest accuracy:', acc1)"
      ],
      "id": "f037467e",
      "execution_count": null,
      "outputs": [
        {
          "output_type": "stream",
          "text": [
            "Epoch 1/10\n",
            "12000/12000 [==============================] - 7s 589us/step - loss: 0.3242 - accuracy: 0.9011\n",
            "Epoch 2/10\n",
            "12000/12000 [==============================] - 7s 603us/step - loss: 0.1023 - accuracy: 0.9683\n",
            "Epoch 3/10\n",
            "12000/12000 [==============================] - 7s 602us/step - loss: 0.0710 - accuracy: 0.9783\n",
            "Epoch 4/10\n",
            "12000/12000 [==============================] - 7s 611us/step - loss: 0.0577 - accuracy: 0.9815\n",
            "Epoch 5/10\n",
            "12000/12000 [==============================] - 7s 616us/step - loss: 0.0505 - accuracy: 0.9851\n",
            "Epoch 6/10\n",
            "12000/12000 [==============================] - 7s 617us/step - loss: 0.0417 - accuracy: 0.9874\n",
            "Epoch 7/10\n",
            "12000/12000 [==============================] - 8s 672us/step - loss: 0.0376 - accuracy: 0.9881\n",
            "Epoch 8/10\n",
            "12000/12000 [==============================] - 8s 656us/step - loss: 0.0325 - accuracy: 0.9906\n",
            "Epoch 9/10\n",
            "12000/12000 [==============================] - 8s 663us/step - loss: 0.0285 - accuracy: 0.9912\n",
            "Epoch 10/10\n",
            "12000/12000 [==============================] - 8s 666us/step - loss: 0.0292 - accuracy: 0.9914\n",
            "\n",
            "\n",
            "313/313 [==============================] - 0s 562us/step - loss: 0.1453 - accuracy: 0.9758\n",
            "\n",
            "Test accuracy: 0.9757999777793884\n"
          ],
          "name": "stdout"
        }
      ]
    },
    {
      "cell_type": "markdown",
      "metadata": {
        "id": "30655423"
      },
      "source": [
        "#### Again Model Overfitting\n",
        "\n",
        "#### Tunning 2: \n",
        "* Dropout Layers can be an easy and effective way to prevent overfitting in your models. A dropout layer randomly drops some of the connections between layers. This helps to prevent overfitting, because if a connection is dropped, the network is forced to Luckily, with keras it’s really easy to add a dropout layer."
      ],
      "id": "30655423"
    },
    {
      "cell_type": "code",
      "metadata": {
        "id": "57548082",
        "outputId": "3b456da9-35a8-4712-e317-013089e67b2f"
      },
      "source": [
        "model_tune2 = tf.keras.Sequential([\n",
        "    tf.keras.layers.Flatten(input_shape=(28, 28)),\n",
        "    tf.keras.layers.Dense(512, activation='relu'),\n",
        "    tf.keras.layers.Dropout(0.5),\n",
        "    tf.keras.layers.Dense(512, activation='relu'),\n",
        "    tf.keras.layers.Dropout(0.5),\n",
        "    tf.keras.layers.Dense(10)\n",
        "])\n",
        "model_tune2.compile(optimizer='adam',\n",
        "              loss=tf.keras.losses.SparseCategoricalCrossentropy(from_logits=True),\n",
        "              metrics=['accuracy'])\n",
        "model_tune2.fit(x_train, y_train, epochs=10, batch_size=5);\n",
        "print('\\n')\n",
        "loss1,acc1 = model_tune2.evaluate(x_test,  y_test)\n",
        "\n",
        "print('\\nTest accuracy:', acc1)"
      ],
      "id": "57548082",
      "execution_count": null,
      "outputs": [
        {
          "output_type": "stream",
          "text": [
            "Epoch 1/10\n",
            "12000/12000 [==============================] - 33s 3ms/step - loss: 0.5039 - accuracy: 0.8446\n",
            "Epoch 2/10\n",
            "12000/12000 [==============================] - 34s 3ms/step - loss: 0.2747 - accuracy: 0.9274\n",
            "Epoch 3/10\n",
            "12000/12000 [==============================] - 34s 3ms/step - loss: 0.2576 - accuracy: 0.9366\n",
            "Epoch 4/10\n",
            "12000/12000 [==============================] - 34s 3ms/step - loss: 0.2570 - accuracy: 0.9379\n",
            "Epoch 5/10\n",
            "12000/12000 [==============================] - 34s 3ms/step - loss: 0.2409 - accuracy: 0.9443\n",
            "Epoch 6/10\n",
            "12000/12000 [==============================] - 36s 3ms/step - loss: 0.2484 - accuracy: 0.9436\n",
            "Epoch 7/10\n",
            "12000/12000 [==============================] - 37s 3ms/step - loss: 0.2442 - accuracy: 0.9466\n",
            "Epoch 8/10\n",
            "12000/12000 [==============================] - 35s 3ms/step - loss: 0.2446 - accuracy: 0.9468\n",
            "Epoch 9/10\n",
            "12000/12000 [==============================] - 35s 3ms/step - loss: 0.2369 - accuracy: 0.9495\n",
            "Epoch 10/10\n",
            "12000/12000 [==============================] - 35s 3ms/step - loss: 0.2431 - accuracy: 0.9491\n",
            "\n",
            "\n",
            "313/313 [==============================] - 0s 872us/step - loss: 0.1414 - accuracy: 0.9676\n",
            "\n",
            "Test accuracy: 0.9675999879837036\n"
          ],
          "name": "stdout"
        }
      ]
    },
    {
      "cell_type": "markdown",
      "metadata": {
        "id": "69c62966"
      },
      "source": [
        "#### Now the Result is fine. But we try to increase the Accuracy by doing Tunning "
      ],
      "id": "69c62966"
    },
    {
      "cell_type": "markdown",
      "metadata": {
        "id": "be66f8d5"
      },
      "source": [
        "#### Tunning 3 :\n",
        "* Droped One Activation funtion\n",
        "* Added Two Dropout Layers\n",
        "* Tacken Two 512 neurons Layers"
      ],
      "id": "be66f8d5"
    },
    {
      "cell_type": "code",
      "metadata": {
        "id": "52b8abcf",
        "outputId": "d3eed3d3-ad4f-4204-b1c3-dd8d4ff433da"
      },
      "source": [
        "model_tune3 = tf.keras.Sequential([\n",
        "    tf.keras.layers.Flatten(input_shape=(28, 28)),\n",
        "    tf.keras.layers.Dense(512, activation='relu'),\n",
        "    tf.keras.layers.Dropout(0.5),\n",
        "    tf.keras.layers.Dense(512, activation='relu'),\n",
        "    tf.keras.layers.Dropout(0.5),\n",
        "    tf.keras.layers.Dense(10)\n",
        "])\n",
        "model_tune3.compile(optimizer='adam',\n",
        "              loss=tf.keras.losses.SparseCategoricalCrossentropy(from_logits=True),\n",
        "              metrics=['accuracy'])\n",
        "model_tune3.fit(x_train, y_train, epochs=10, batch_size=5)\n",
        "print('\\n')\n",
        "loss1,acc1 = model_tune3.evaluate(x_test,  y_test)\n",
        "\n",
        "print('\\nTest accuracy:', acc1)"
      ],
      "id": "52b8abcf",
      "execution_count": null,
      "outputs": [
        {
          "output_type": "stream",
          "text": [
            "Epoch 1/10\n",
            "12000/12000 [==============================] - 36s 3ms/step - loss: 0.4982 - accuracy: 0.8453\n",
            "Epoch 2/10\n",
            "12000/12000 [==============================] - 35s 3ms/step - loss: 0.2698 - accuracy: 0.9274\n",
            "Epoch 3/10\n",
            "12000/12000 [==============================] - 35s 3ms/step - loss: 0.2530 - accuracy: 0.9370\n",
            "Epoch 4/10\n",
            "12000/12000 [==============================] - 35s 3ms/step - loss: 0.2487 - accuracy: 0.9414\n",
            "Epoch 5/10\n",
            "12000/12000 [==============================] - 35s 3ms/step - loss: 0.2388 - accuracy: 0.9445\n",
            "Epoch 6/10\n",
            "12000/12000 [==============================] - 35s 3ms/step - loss: 0.2449 - accuracy: 0.9438\n",
            "Epoch 7/10\n",
            "12000/12000 [==============================] - 35s 3ms/step - loss: 0.2413 - accuracy: 0.9471\n",
            "Epoch 8/10\n",
            "12000/12000 [==============================] - 35s 3ms/step - loss: 0.2328 - accuracy: 0.9495\n",
            "Epoch 9/10\n",
            "12000/12000 [==============================] - 35s 3ms/step - loss: 0.2532 - accuracy: 0.9495\n",
            "Epoch 10/10\n",
            "12000/12000 [==============================] - 35s 3ms/step - loss: 0.2412 - accuracy: 0.9487\n",
            "\n",
            "\n",
            "313/313 [==============================] - 0s 891us/step - loss: 0.1384 - accuracy: 0.9672\n",
            "\n",
            "Test accuracy: 0.967199981212616\n"
          ],
          "name": "stdout"
        }
      ]
    },
    {
      "cell_type": "markdown",
      "metadata": {
        "id": "5b9b8d82"
      },
      "source": [
        "#### No use with above tunning method\n",
        "#### Tunning 4 :\n",
        "* Droped One Activation funtion to the main model\n",
        "* Added Two Dropout Layers\n",
        "* Added one 512 neurons Layer, One 256 neurons Layer, One 10 neurons Layer\n",
        "* Used callback function with Early Stopping\n",
        "   > <i>Another way to prevent overfitting is to stop your training process early: Instead of training for a fixed number of epochs, you stop as soon as the validation loss rises — because, after that, your model will generally only get worse with more training.</i>\n",
        "* Increased Epochs size to the model fitting function by 35"
      ],
      "id": "5b9b8d82"
    },
    {
      "cell_type": "code",
      "metadata": {
        "id": "a6880fb4"
      },
      "source": [
        "model_tune4 = tf.keras.Sequential([\n",
        "    tf.keras.layers.Flatten(input_shape=(28, 28)),\n",
        "    tf.keras.layers.Dense(512, activation='relu'),\n",
        "    tf.keras.layers.Dropout(0.4),\n",
        "    tf.keras.layers.Dense(256, activation='relu'),\n",
        "    tf.keras.layers.Dropout(0.4),\n",
        "    tf.keras.layers.Dense(10)\n",
        "])\n",
        "model_tune4.compile(optimizer='adam',\n",
        "              loss=tf.keras.losses.SparseCategoricalCrossentropy(from_logits=True),\n",
        "              metrics=['accuracy'])"
      ],
      "id": "a6880fb4",
      "execution_count": null,
      "outputs": []
    },
    {
      "cell_type": "code",
      "metadata": {
        "id": "53835303",
        "outputId": "aa179516-f3d8-452b-dde4-f3ca477c619a"
      },
      "source": [
        "es_callback = keras.callbacks.EarlyStopping(monitor='loss', patience=5)\n",
        "\n",
        "model_tune4.fit(x_train, y_train, epochs=35, batch_size=10, callbacks=[es_callback])"
      ],
      "id": "53835303",
      "execution_count": null,
      "outputs": [
        {
          "output_type": "stream",
          "text": [
            "Epoch 1/35\n",
            "6000/6000 [==============================] - 15s 2ms/step - loss: 0.4426 - accuracy: 0.8626\n",
            "Epoch 2/35\n",
            "6000/6000 [==============================] - 15s 3ms/step - loss: 0.1759 - accuracy: 0.9497\n",
            "Epoch 3/35\n",
            "6000/6000 [==============================] - 15s 2ms/step - loss: 0.1484 - accuracy: 0.9585\n",
            "Epoch 4/35\n",
            "6000/6000 [==============================] - 16s 3ms/step - loss: 0.1344 - accuracy: 0.9629\n",
            "Epoch 5/35\n",
            "6000/6000 [==============================] - 15s 3ms/step - loss: 0.1277 - accuracy: 0.9646\n",
            "Epoch 6/35\n",
            "6000/6000 [==============================] - 14s 2ms/step - loss: 0.1135 - accuracy: 0.9674\n",
            "Epoch 7/35\n",
            "6000/6000 [==============================] - 16s 3ms/step - loss: 0.1105 - accuracy: 0.9694\n",
            "Epoch 8/35\n",
            "6000/6000 [==============================] - 15s 3ms/step - loss: 0.1137 - accuracy: 0.9702\n",
            "Epoch 9/35\n",
            "6000/6000 [==============================] - 15s 2ms/step - loss: 0.1093 - accuracy: 0.9727\n",
            "Epoch 10/35\n",
            "6000/6000 [==============================] - 15s 2ms/step - loss: 0.0967 - accuracy: 0.9738\n",
            "Epoch 11/35\n",
            "6000/6000 [==============================] - 15s 2ms/step - loss: 0.1019 - accuracy: 0.9747\n",
            "Epoch 12/35\n",
            "6000/6000 [==============================] - 15s 3ms/step - loss: 0.1059 - accuracy: 0.9729\n",
            "Epoch 13/35\n",
            "6000/6000 [==============================] - 15s 2ms/step - loss: 0.1022 - accuracy: 0.9739\n",
            "Epoch 14/35\n",
            "6000/6000 [==============================] - 15s 3ms/step - loss: 0.0866 - accuracy: 0.9765\n",
            "Epoch 15/35\n",
            "6000/6000 [==============================] - 15s 3ms/step - loss: 0.0952 - accuracy: 0.9763\n",
            "Epoch 16/35\n",
            "6000/6000 [==============================] - 15s 2ms/step - loss: 0.0919 - accuracy: 0.9780\n",
            "Epoch 17/35\n",
            "6000/6000 [==============================] - 15s 2ms/step - loss: 0.0942 - accuracy: 0.9768\n",
            "Epoch 18/35\n",
            "6000/6000 [==============================] - 15s 3ms/step - loss: 0.0831 - accuracy: 0.9796\n",
            "Epoch 19/35\n",
            "6000/6000 [==============================] - 15s 2ms/step - loss: 0.0881 - accuracy: 0.9783\n",
            "Epoch 20/35\n",
            "6000/6000 [==============================] - 15s 3ms/step - loss: 0.0901 - accuracy: 0.9790\n",
            "Epoch 21/35\n",
            "6000/6000 [==============================] - 15s 3ms/step - loss: 0.0983 - accuracy: 0.9771\n",
            "Epoch 22/35\n",
            "6000/6000 [==============================] - 16s 3ms/step - loss: 0.0874 - accuracy: 0.9787\n",
            "Epoch 23/35\n",
            "6000/6000 [==============================] - 15s 3ms/step - loss: 0.0961 - accuracy: 0.9790\n",
            "Epoch 24/35\n",
            "6000/6000 [==============================] - 15s 2ms/step - loss: 0.0864 - accuracy: 0.9805\n",
            "Epoch 25/35\n",
            "6000/6000 [==============================] - 15s 3ms/step - loss: 0.0853 - accuracy: 0.9823\n",
            "Epoch 26/35\n",
            "6000/6000 [==============================] - 15s 3ms/step - loss: 0.0872 - accuracy: 0.9816\n",
            "Epoch 27/35\n",
            "6000/6000 [==============================] - 16s 3ms/step - loss: 0.0911 - accuracy: 0.9818\n",
            "Epoch 28/35\n",
            "6000/6000 [==============================] - 16s 3ms/step - loss: 0.0851 - accuracy: 0.9817\n",
            "Epoch 29/35\n",
            "6000/6000 [==============================] - 17s 3ms/step - loss: 0.0982 - accuracy: 0.9795\n",
            "Epoch 30/35\n",
            "6000/6000 [==============================] - 17s 3ms/step - loss: 0.0837 - accuracy: 0.9825\n",
            "Epoch 31/35\n",
            "6000/6000 [==============================] - 16s 3ms/step - loss: 0.0938 - accuracy: 0.9801\n",
            "Epoch 32/35\n",
            "6000/6000 [==============================] - 16s 3ms/step - loss: 0.0939 - accuracy: 0.9805\n",
            "Epoch 33/35\n",
            "6000/6000 [==============================] - 15s 3ms/step - loss: 0.0895 - accuracy: 0.9814\n"
          ],
          "name": "stdout"
        },
        {
          "output_type": "execute_result",
          "data": {
            "text/plain": [
              "<tensorflow.python.keras.callbacks.History at 0x1e5086ea0d0>"
            ]
          },
          "metadata": {
            "tags": []
          },
          "execution_count": 26
        }
      ]
    },
    {
      "cell_type": "code",
      "metadata": {
        "id": "b963c0cb",
        "outputId": "3734ed1a-ff2d-4d0a-bf80-a99ca5bde3ec"
      },
      "source": [
        "loss_4,acc_4 = model_tune4.evaluate(x_test,  y_test)\n",
        "\n",
        "print('\\nTest accuracy:', acc_4, '\\nTest Loss:', loss_4)"
      ],
      "id": "b963c0cb",
      "execution_count": null,
      "outputs": [
        {
          "output_type": "stream",
          "text": [
            "313/313 [==============================] - 1s 1ms/step - loss: 0.1378 - accuracy: 0.9812\n",
            "\n",
            "Test accuracy: 0.9811999797821045 \n",
            "Test Loss: 0.13779640197753906\n"
          ],
          "name": "stdout"
        }
      ]
    },
    {
      "cell_type": "markdown",
      "metadata": {
        "id": "59241155"
      },
      "source": [
        "### <b style=\"color:green;\">Finally we reached  to the good Accuracy Score</b>\n",
        "<img src=\"https://live.staticflickr.com/65535/51177069187_258efa33f7_o.png\" width=\"320\" height=\"267\">\n",
        "<p>\n",
        "<img src=\"https://live.staticflickr.com/65535/51178283347_e1a9416536_o.png\" style=\"float:left;width:42px;height:42px;\"><br>\n",
        "    <b style=\"color:blue;\">Evaluating the model accuracy</b></br>\n",
        "</p>\n",
        "\n",
        "\n",
        "<p>Now the Model is not Overfitting and Not Underfitting, and also we got good accuracy (98.13)</p>\n",
        "\n",
        "<b>Conclusion:</b>\n",
        "\n",
        "As shown above, all three options help to reduce overfitting. We manage to increase the accuracy on the test data substantially. Among these three options, the model with the Dropout layers and Early Stopping performs the best on the test data."
      ],
      "id": "59241155"
    },
    {
      "cell_type": "markdown",
      "metadata": {
        "id": "054ae7be"
      },
      "source": [
        "# Now Finalizing the Model\n",
        "<b style=\"color:red;\">Model name </b>|<b style=\"color:blue;\">Training Accuracy</b>|<b style=\"color:green;\">Testing Accuracy</b>\n",
        "-----------|------------------|------------------\n",
        "Base Model |99.11|97.43\n",
        "model_tune1|99.22|97.61\n",
        "model_tune2|94.91|97.04\n",
        "model_tune3|94.91|97.18\n",
        "model_tune4|98.23|98.22\n",
        "\n",
        "* From the above tunning methods the last method given good accuracy_score for both Training and Testing Accuracy\n",
        "* And the Both Training and Testing accuracy are almost qual with very less difference. So Overfitting and Underfitting is not happened for this model\n",
        "* The model_tune4 model given best performance so that we are selecting this model as our best and Final model"
      ],
      "id": "054ae7be"
    },
    {
      "cell_type": "markdown",
      "metadata": {
        "id": "d9d0093f"
      },
      "source": [
        "### Final Model Creation Using model_tune4 model"
      ],
      "id": "d9d0093f"
    },
    {
      "cell_type": "code",
      "metadata": {
        "id": "2631e729"
      },
      "source": [
        "# Model Creation \n",
        "model = tf.keras.Sequential([\n",
        "    tf.keras.layers.Flatten(input_shape=(28, 28)),\n",
        "    tf.keras.layers.Dense(512, activation='relu'),\n",
        "    tf.keras.layers.Dropout(0.4),\n",
        "    tf.keras.layers.Dense(256, activation='relu'),\n",
        "    tf.keras.layers.Dropout(0.4),\n",
        "    tf.keras.layers.Dense(10)\n",
        "])\n",
        "\n",
        "# Compiler Creation for the model\n",
        "model.compile(optimizer='adam',\n",
        "              loss=tf.keras.losses.SparseCategoricalCrossentropy(from_logits=True),\n",
        "              metrics=['accuracy'])"
      ],
      "id": "2631e729",
      "execution_count": null,
      "outputs": []
    },
    {
      "cell_type": "markdown",
      "metadata": {
        "id": "c2e69f5a"
      },
      "source": [
        "## Training the Final Model"
      ],
      "id": "c2e69f5a"
    },
    {
      "cell_type": "code",
      "metadata": {
        "id": "b05d0de1",
        "outputId": "e29afe41-ef61-4d9b-d348-ebea2d0351ad"
      },
      "source": [
        "# Using call back method\n",
        "\n",
        "callback_es = keras.callbacks.EarlyStopping(monitor='loss', patience=5)\n",
        "\n",
        "# Training the model with epochs=35, batch_size=10 and also used callbacks\n",
        "\n",
        "# Here we are storing the Training, Testing loss and accuracy into the model_history\n",
        "\n",
        "model_history = model.fit(x_train, y_train, validation_data = (x_test,y_test), \n",
        "                          epochs=35, batch_size=10, callbacks=[callback_es])"
      ],
      "id": "b05d0de1",
      "execution_count": null,
      "outputs": [
        {
          "output_type": "stream",
          "text": [
            "Epoch 1/35\n",
            "6000/6000 [==============================] - 15s 2ms/step - loss: 0.0943 - accuracy: 0.9797 - val_loss: 0.1308 - val_accuracy: 0.9818\n",
            "Epoch 2/35\n",
            "6000/6000 [==============================] - 15s 2ms/step - loss: 0.0871 - accuracy: 0.9807 - val_loss: 0.1384 - val_accuracy: 0.9821\n",
            "Epoch 3/35\n",
            "6000/6000 [==============================] - 15s 3ms/step - loss: 0.0905 - accuracy: 0.9823 - val_loss: 0.1474 - val_accuracy: 0.9819\n",
            "Epoch 4/35\n",
            "6000/6000 [==============================] - 17s 3ms/step - loss: 0.0904 - accuracy: 0.9815 - val_loss: 0.1409 - val_accuracy: 0.9801\n",
            "Epoch 5/35\n",
            "6000/6000 [==============================] - 22s 4ms/step - loss: 0.0789 - accuracy: 0.9829 - val_loss: 0.1381 - val_accuracy: 0.9825\n",
            "Epoch 6/35\n",
            "6000/6000 [==============================] - 20s 3ms/step - loss: 0.0905 - accuracy: 0.9819 - val_loss: 0.1260 - val_accuracy: 0.9831\n",
            "Epoch 7/35\n",
            "6000/6000 [==============================] - 21s 4ms/step - loss: 0.0889 - accuracy: 0.9815 - val_loss: 0.1726 - val_accuracy: 0.9811\n",
            "Epoch 8/35\n",
            "6000/6000 [==============================] - 19s 3ms/step - loss: 0.0854 - accuracy: 0.9829 - val_loss: 0.1408 - val_accuracy: 0.9832\n",
            "Epoch 9/35\n",
            "6000/6000 [==============================] - 19s 3ms/step - loss: 0.0862 - accuracy: 0.9820 - val_loss: 0.1295 - val_accuracy: 0.9820\n",
            "Epoch 10/35\n",
            "6000/6000 [==============================] - 23s 4ms/step - loss: 0.0838 - accuracy: 0.9829 - val_loss: 0.1604 - val_accuracy: 0.9815\n"
          ],
          "name": "stdout"
        }
      ]
    },
    {
      "cell_type": "markdown",
      "metadata": {
        "id": "b65016a4"
      },
      "source": [
        "## Evaluating the final model\n",
        "\n",
        "Result: \n",
        "* Training accuracy is <b>`98.14`</b> and Testing Accuracy is <b>`98.14`</b>"
      ],
      "id": "b65016a4"
    },
    {
      "cell_type": "code",
      "metadata": {
        "id": "14ef10ec",
        "outputId": "6ac93e10-f692-4600-9a59-0f2b68e94e6a"
      },
      "source": [
        "loss, acc = model.evaluate(x_test,  y_test)\n",
        "\n",
        "print('\\nTest accuracy:', acc, '\\nTest Loss:', loss)"
      ],
      "id": "14ef10ec",
      "execution_count": null,
      "outputs": [
        {
          "output_type": "stream",
          "text": [
            "313/313 [==============================] - 0s 1ms/step - loss: 0.1604 - accuracy: 0.9815\n",
            "\n",
            "Test accuracy: 0.9815000295639038 \n",
            "Test Loss: 0.1603628247976303\n"
          ],
          "name": "stdout"
        }
      ]
    },
    {
      "cell_type": "code",
      "metadata": {
        "id": "fedfc6a8",
        "outputId": "4ba25cb5-be89-4601-8214-dbbf44ce8bb1"
      },
      "source": [
        "# Model Summary\n",
        "model.summary()"
      ],
      "id": "fedfc6a8",
      "execution_count": null,
      "outputs": [
        {
          "output_type": "stream",
          "text": [
            "Model: \"sequential_5\"\n",
            "_________________________________________________________________\n",
            "Layer (type)                 Output Shape              Param #   \n",
            "=================================================================\n",
            "flatten_5 (Flatten)          (None, 784)               0         \n",
            "_________________________________________________________________\n",
            "dense_15 (Dense)             (None, 512)               401920    \n",
            "_________________________________________________________________\n",
            "dropout_6 (Dropout)          (None, 512)               0         \n",
            "_________________________________________________________________\n",
            "dense_16 (Dense)             (None, 256)               131328    \n",
            "_________________________________________________________________\n",
            "dropout_7 (Dropout)          (None, 256)               0         \n",
            "_________________________________________________________________\n",
            "dense_17 (Dense)             (None, 10)                2570      \n",
            "=================================================================\n",
            "Total params: 535,818\n",
            "Trainable params: 535,818\n",
            "Non-trainable params: 0\n",
            "_________________________________________________________________\n"
          ],
          "name": "stdout"
        }
      ]
    },
    {
      "cell_type": "code",
      "metadata": {
        "id": "fa9dd78e",
        "outputId": "893535a3-0de2-46ba-b9d2-fcd6bda4d8ea"
      },
      "source": [
        "model_history.history"
      ],
      "id": "fa9dd78e",
      "execution_count": null,
      "outputs": [
        {
          "output_type": "execute_result",
          "data": {
            "text/plain": [
              "{'loss': [0.09427376836538315,\n",
              "  0.08708082884550095,\n",
              "  0.09049486368894577,\n",
              "  0.09038601815700531,\n",
              "  0.07888352125883102,\n",
              "  0.09053457528352737,\n",
              "  0.08894418925046921,\n",
              "  0.08538475632667542,\n",
              "  0.08620596677064896,\n",
              "  0.08379079401493073],\n",
              " 'accuracy': [0.9797333478927612,\n",
              "  0.9807166457176208,\n",
              "  0.982283353805542,\n",
              "  0.9814833402633667,\n",
              "  0.9828833341598511,\n",
              "  0.9819166660308838,\n",
              "  0.9814500212669373,\n",
              "  0.9828833341598511,\n",
              "  0.9820333123207092,\n",
              "  0.9829333424568176],\n",
              " 'val_loss': [0.13084259629249573,\n",
              "  0.1383650302886963,\n",
              "  0.14742834866046906,\n",
              "  0.14093831181526184,\n",
              "  0.13809220492839813,\n",
              "  0.12601089477539062,\n",
              "  0.1726202815771103,\n",
              "  0.14079339802265167,\n",
              "  0.12948645651340485,\n",
              "  0.16036269068717957],\n",
              " 'val_accuracy': [0.9818000197410583,\n",
              "  0.9821000099182129,\n",
              "  0.9818999767303467,\n",
              "  0.9800999760627747,\n",
              "  0.9825000166893005,\n",
              "  0.9830999970436096,\n",
              "  0.9811000227928162,\n",
              "  0.9832000136375427,\n",
              "  0.9819999933242798,\n",
              "  0.9815000295639038]}"
            ]
          },
          "metadata": {
            "tags": []
          },
          "execution_count": 34
        }
      ]
    },
    {
      "cell_type": "markdown",
      "metadata": {
        "id": "f065378a"
      },
      "source": [
        "### Our model is working fine. \n",
        "\n",
        "### Now we will visualize training and validation losses and accuracies."
      ],
      "id": "f065378a"
    },
    {
      "cell_type": "code",
      "metadata": {
        "id": "5bb34d3d",
        "outputId": "b4ce2abe-f5ae-4308-a0fd-81ca0359b415"
      },
      "source": [
        "import matplotlib.pyplot as plt\n",
        "plt.plot(model_history.history['accuracy'])\n",
        "plt.plot(model_history.history['val_accuracy'])\n",
        "plt.ylim(0.95, 1)\n",
        "plt.title('Model accuracy')\n",
        "plt.ylabel('Accuracy')\n",
        "plt.xlabel('Epoch')\n",
        "plt.legend(['Train', 'Test'], loc='upper left')\n",
        "plt.show()"
      ],
      "id": "5bb34d3d",
      "execution_count": null,
      "outputs": [
        {
          "output_type": "display_data",
          "data": {
            "image/png": "[encoded data removed]",
            "text/plain": [
              "<Figure size 432x288 with 1 Axes>"
            ]
          },
          "metadata": {
            "tags": []
          }
        }
      ]
    },
    {
      "cell_type": "code",
      "metadata": {
        "id": "1f9ea57a",
        "outputId": "87592da9-2b6d-462d-c10d-cec1528aaf23"
      },
      "source": [
        "plt.plot(model_history.history['loss']) \n",
        "plt.plot(model_history.history['val_loss']) \n",
        "plt.ylim(0.0, 1)\n",
        "plt.title('Model loss') \n",
        "plt.ylabel('Loss') \n",
        "plt.xlabel('Epoch') \n",
        "plt.legend(['Train', 'Test'], loc='upper left') \n",
        "plt.show()"
      ],
      "id": "1f9ea57a",
      "execution_count": null,
      "outputs": [
        {
          "output_type": "display_data",
          "data": {
            "image/png": "[encoded data removed]",
            "text/plain": [
              "<Figure size 432x288 with 1 Axes>"
            ]
          },
          "metadata": {
            "tags": []
          }
        }
      ]
    },
    {
      "cell_type": "markdown",
      "metadata": {
        "id": "bc6605cd"
      },
      "source": [
        "### Predicting the Test Data"
      ],
      "id": "bc6605cd"
    },
    {
      "cell_type": "code",
      "metadata": {
        "id": "fad5c534"
      },
      "source": [
        "# calculate predictions\n",
        "probability_model = tf.keras.Sequential([model, \n",
        "                                         tf.keras.layers.Softmax()])\n",
        "predictions = probability_model.predict(x_test)"
      ],
      "id": "fad5c534",
      "execution_count": null,
      "outputs": []
    },
    {
      "cell_type": "code",
      "metadata": {
        "id": "3c3e10f5",
        "outputId": "668c9452-aa23-40bc-f50b-8bd870a5f30b"
      },
      "source": [
        "print(predictions[0])\n",
        "# Converting the predictions[0] into digit value using the np.argmax() function\n",
        "print(\"0 index digit in test set is: \" ,np.argmax(predictions[0]))"
      ],
      "id": "3c3e10f5",
      "execution_count": null,
      "outputs": [
        {
          "output_type": "stream",
          "text": [
            "[0.0000000e+00 0.0000000e+00 8.2007466e-30 2.2759999e-35 1.4568416e-29\n",
            " 0.0000000e+00 0.0000000e+00 1.0000000e+00 0.0000000e+00 7.0337766e-26]\n",
            "0 index digit in test set is:  7\n"
          ],
          "name": "stdout"
        }
      ]
    },
    {
      "cell_type": "code",
      "metadata": {
        "id": "376d5507"
      },
      "source": [
        "# Hete we converting the all the predictions result and storing the results in y_pred\n",
        "y_pred = []\n",
        "for i in range(len(y_test)):\n",
        "    y_pred.append(np.argmax(predictions[i]))"
      ],
      "id": "376d5507",
      "execution_count": null,
      "outputs": []
    },
    {
      "cell_type": "code",
      "metadata": {
        "id": "12596d3c",
        "outputId": "0966b1fe-9b01-4d84-de96-62ea3ff21962"
      },
      "source": [
        "y_pred[0]"
      ],
      "id": "12596d3c",
      "execution_count": null,
      "outputs": [
        {
          "output_type": "execute_result",
          "data": {
            "text/plain": [
              "7"
            ]
          },
          "metadata": {
            "tags": []
          },
          "execution_count": 40
        }
      ]
    },
    {
      "cell_type": "markdown",
      "metadata": {
        "id": "bf8932bd"
      },
      "source": [
        "## Evaluating the final model with different metrics "
      ],
      "id": "bf8932bd"
    },
    {
      "cell_type": "code",
      "metadata": {
        "id": "a0febaaa"
      },
      "source": [
        "from sklearn.metrics import accuracy_score, recall_score, precision_score, confusion_matrix"
      ],
      "id": "a0febaaa",
      "execution_count": null,
      "outputs": []
    },
    {
      "cell_type": "code",
      "metadata": {
        "id": "1a11af71",
        "outputId": "7852f904-5cb7-4c7f-aca3-0755e44d950a"
      },
      "source": [
        "print('Accuracy Score :', accuracy_score(y_true=y_test, y_pred=y_pred))\n",
        "print('Recall Score :', recall_score(y_true=y_test, y_pred=y_pred, average='micro'))\n",
        "print('Precision Score :', precision_score(y_true=y_test, y_pred=y_pred,average='micro'))"
      ],
      "id": "1a11af71",
      "execution_count": null,
      "outputs": [
        {
          "output_type": "stream",
          "text": [
            "Accuracy Score : 0.9815\n",
            "Recall Score : 0.9815\n",
            "Precision Score : 0.9815\n"
          ],
          "name": "stdout"
        }
      ]
    },
    {
      "cell_type": "code",
      "metadata": {
        "scrolled": false,
        "id": "8d0ea86d",
        "outputId": "3c8861bd-210e-4f10-82f8-d1694b679ecf"
      },
      "source": [
        "plt.figure(figsize=(12,8))\n",
        "sns.heatmap(confusion_matrix(y_test, y_pred), annot=True,fmt='d',cmap=\"YlGnBu\",linecolor='rgb', linewidths=1);\n",
        "#sns.set(font_scale=1.8) "
      ],
      "id": "8d0ea86d",
      "execution_count": null,
      "outputs": [
        {
          "output_type": "display_data",
          "data": {
            "image/png": "[encoded data removed]",
            "text/plain": [
              "<Figure size 864x576 with 2 Axes>"
            ]
          },
          "metadata": {
            "tags": []
          }
        }
      ]
    },
    {
      "cell_type": "code",
      "metadata": {
        "id": "978b940d",
        "outputId": "dd9b9229-505a-4445-bb10-fe8a1e93a62e"
      },
      "source": [
        "# true_pred is used to store the number of Right predictions\n",
        "# false_pred is used to store the number of Wrong predictions\n",
        "# false_pred_index is used to store the Wrong predictions index values\n",
        "# here false_pred = len(false_pred_index)\n",
        "\n",
        "true_pred = 0    # To c\n",
        "false_pred = 0\n",
        "false_pred_index = []\n",
        "for i in range(len(y_test)):\n",
        "    if y_test[i] == y_pred[i]:\n",
        "        true_pred= true_pred + 1\n",
        "    else:\n",
        "        false_pred = false_pred + 1\n",
        "        false_pred_index.append(i)\n",
        "print('Correct prediction', true_pred)\n",
        "print('Wrong predictions', false_pred)"
      ],
      "id": "978b940d",
      "execution_count": null,
      "outputs": [
        {
          "output_type": "stream",
          "text": [
            "Correct prediction 9815\n",
            "Wrong predictions 185\n"
          ],
          "name": "stdout"
        }
      ]
    },
    {
      "cell_type": "markdown",
      "metadata": {
        "id": "b6ef2cd4"
      },
      "source": [
        "### Tacking one right prediction as a example and Checking"
      ],
      "id": "b6ef2cd4"
    },
    {
      "cell_type": "code",
      "metadata": {
        "id": "8e3d7378",
        "outputId": "ff5b8f3b-f71b-474e-ec65-501d1225187a"
      },
      "source": [
        "# checking the 11th index in the x_test\n",
        "plt.figure()\n",
        "plt.imshow(x_test[11])\n",
        "plt.colorbar()\n",
        "plt.grid()\n",
        "plt.show()"
      ],
      "id": "8e3d7378",
      "execution_count": null,
      "outputs": [
        {
          "output_type": "display_data",
          "data": {
            "image/png": "[encoded data removed]",
            "text/plain": [
              "<Figure size 432x288 with 2 Axes>"
            ]
          },
          "metadata": {
            "tags": []
          }
        }
      ]
    },
    {
      "cell_type": "code",
      "metadata": {
        "id": "baeb0c5b",
        "outputId": "a3be44e6-ee13-4268-b751-57779b629e20"
      },
      "source": [
        "# Output's for the 11th index in the x_test\n",
        "k = 11\n",
        "if y_test[k] == y_pred[k]:\n",
        "    print(\"The Model predicted correctly and the digit is :\", y_pred[k] )\n",
        "else:\n",
        "    print(\"The Model predicted Wrongly\")\n",
        "    print(\"Right Digit is =\", y_test[k], \"but Model predicted\", y_pred[k] )"
      ],
      "id": "baeb0c5b",
      "execution_count": null,
      "outputs": [
        {
          "output_type": "stream",
          "text": [
            "The Model predicted correctly and the digit is : 6\n"
          ],
          "name": "stdout"
        }
      ]
    },
    {
      "cell_type": "markdown",
      "metadata": {
        "id": "61144a26"
      },
      "source": [
        "### Tacking one wrong prediction as a example and Checking"
      ],
      "id": "61144a26"
    },
    {
      "cell_type": "code",
      "metadata": {
        "scrolled": true,
        "id": "1ce9cde6",
        "outputId": "9823a725-ecd6-4a98-8836-065e73aa0be5"
      },
      "source": [
        "# Tacking one value from the false_pred_index list\n",
        "false_pred_index"
      ],
      "id": "1ce9cde6",
      "execution_count": null,
      "outputs": [
        {
          "output_type": "execute_result",
          "data": {
            "text/plain": [
              "[149,\n",
              " 247,\n",
              " 321,\n",
              " 340,\n",
              " 359,\n",
              " 445,\n",
              " 448,\n",
              " 449,\n",
              " 582,\n",
              " 659,\n",
              " 691,\n",
              " 717,\n",
              " 720,\n",
              " 723,\n",
              " 883,\n",
              " 900,\n",
              " 938,\n",
              " 956,\n",
              " 1014,\n",
              " 1032,\n",
              " 1044,\n",
              " 1107,\n",
              " 1112,\n",
              " 1178,\n",
              " 1226,\n",
              " 1232,\n",
              " 1242,\n",
              " 1247,\n",
              " 1260,\n",
              " 1319,\n",
              " 1326,\n",
              " 1328,\n",
              " 1393,\n",
              " 1395,\n",
              " 1522,\n",
              " 1530,\n",
              " 1549,\n",
              " 1553,\n",
              " 1554,\n",
              " 1611,\n",
              " 1621,\n",
              " 1678,\n",
              " 1681,\n",
              " 1717,\n",
              " 1828,\n",
              " 1868,\n",
              " 1901,\n",
              " 1952,\n",
              " 2004,\n",
              " 2024,\n",
              " 2053,\n",
              " 2109,\n",
              " 2129,\n",
              " 2130,\n",
              " 2135,\n",
              " 2162,\n",
              " 2182,\n",
              " 2224,\n",
              " 2237,\n",
              " 2293,\n",
              " 2308,\n",
              " 2369,\n",
              " 2387,\n",
              " 2408,\n",
              " 2488,\n",
              " 2534,\n",
              " 2573,\n",
              " 2597,\n",
              " 2598,\n",
              " 2654,\n",
              " 2713,\n",
              " 2720,\n",
              " 2823,\n",
              " 2877,\n",
              " 2921,\n",
              " 2927,\n",
              " 2939,\n",
              " 2953,\n",
              " 3005,\n",
              " 3060,\n",
              " 3073,\n",
              " 3117,\n",
              " 3225,\n",
              " 3405,\n",
              " 3441,\n",
              " 3475,\n",
              " 3503,\n",
              " 3520,\n",
              " 3549,\n",
              " 3558,\n",
              " 3597,\n",
              " 3767,\n",
              " 3776,\n",
              " 3808,\n",
              " 3811,\n",
              " 3818,\n",
              " 3821,\n",
              " 3906,\n",
              " 3941,\n",
              " 3985,\n",
              " 4007,\n",
              " 4027,\n",
              " 4065,\n",
              " 4075,\n",
              " 4078,\n",
              " 4176,\n",
              " 4224,\n",
              " 4248,\n",
              " 4289,\n",
              " 4369,\n",
              " 4405,\n",
              " 4437,\n",
              " 4443,\n",
              " 4477,\n",
              " 4497,\n",
              " 4536,\n",
              " 4571,\n",
              " 4601,\n",
              " 4635,\n",
              " 4740,\n",
              " 4751,\n",
              " 4823,\n",
              " 4860,\n",
              " 4880,\n",
              " 5078,\n",
              " 5140,\n",
              " 5331,\n",
              " 5457,\n",
              " 5623,\n",
              " 5634,\n",
              " 5642,\n",
              " 5676,\n",
              " 5734,\n",
              " 5936,\n",
              " 5955,\n",
              " 5973,\n",
              " 6011,\n",
              " 6059,\n",
              " 6166,\n",
              " 6173,\n",
              " 6174,\n",
              " 6347,\n",
              " 6555,\n",
              " 6571,\n",
              " 6576,\n",
              " 6597,\n",
              " 6625,\n",
              " 6632,\n",
              " 6641,\n",
              " 6651,\n",
              " 6783,\n",
              " 7338,\n",
              " 7434,\n",
              " 7812,\n",
              " 7847,\n",
              " 7856,\n",
              " 7899,\n",
              " 7928,\n",
              " 7990,\n",
              " 8091,\n",
              " 8094,\n",
              " 8095,\n",
              " 8115,\n",
              " 8277,\n",
              " 8325,\n",
              " 8397,\n",
              " 8408,\n",
              " 8527,\n",
              " 9009,\n",
              " 9015,\n",
              " 9024,\n",
              " 9587,\n",
              " 9634,\n",
              " 9669,\n",
              " 9679,\n",
              " 9700,\n",
              " 9729,\n",
              " 9745,\n",
              " 9749,\n",
              " 9764,\n",
              " 9768,\n",
              " 9770,\n",
              " 9792,\n",
              " 9858,\n",
              " 9905]"
            ]
          },
          "metadata": {
            "tags": []
          },
          "execution_count": 49
        }
      ]
    },
    {
      "cell_type": "code",
      "metadata": {
        "id": "7b93b309",
        "outputId": "193880c2-6893-4263-9f5f-497786beb709"
      },
      "source": [
        "plt.figure()\n",
        "plt.imshow(x_test[false_pred_index[10]])\n",
        "plt.colorbar()\n",
        "plt.grid()\n",
        "plt.show()"
      ],
      "id": "7b93b309",
      "execution_count": null,
      "outputs": [
        {
          "output_type": "display_data",
          "data": {
            "image/png": "[encoded data removed]",
            "text/plain": [
              "<Figure size 432x288 with 2 Axes>"
            ]
          },
          "metadata": {
            "tags": []
          }
        }
      ]
    },
    {
      "cell_type": "code",
      "metadata": {
        "id": "53b8379c",
        "outputId": "671d4383-b628-4954-be4f-0c9b3c897824"
      },
      "source": [
        "k = false_pred_index[10]\n",
        "if y_test[k] == y_pred[k]:\n",
        "    print(\"The Model predicted correctly and the digit is :\", y_pred[k] )\n",
        "else:\n",
        "    print(\"The Model predicted Wrongly\")\n",
        "    print(\"Right Digit is =\", y_test[k], \"but Model predicted\", y_pred[k] )"
      ],
      "id": "53b8379c",
      "execution_count": null,
      "outputs": [
        {
          "output_type": "stream",
          "text": [
            "The Model predicted Wrongly\n",
            "Right Digit is = 8 but Model predicted 4\n"
          ],
          "name": "stdout"
        }
      ]
    },
    {
      "cell_type": "code",
      "metadata": {
        "id": "01f61db3",
        "outputId": "a470564b-3cd6-4d46-e5bd-8cff360c73c0"
      },
      "source": [
        "k = false_pred_index[110]\n",
        "if y_test[k] == y_pred[k]:\n",
        "    print(\"The Model predicted correctly and the digit is :\", y_pred[k] )\n",
        "else:\n",
        "    print(\"The Model predicted Wrongly\")\n",
        "    print(\"Right Digit is =\", y_test[k], \"but Model predicted\", y_pred[k] )"
      ],
      "id": "01f61db3",
      "execution_count": null,
      "outputs": [
        {
          "output_type": "stream",
          "text": [
            "The Model predicted Wrongly\n",
            "Right Digit is = 9 but Model predicted 4\n"
          ],
          "name": "stdout"
        }
      ]
    },
    {
      "cell_type": "markdown",
      "metadata": {
        "id": "147c3c67"
      },
      "source": [
        "<h2 align='center' style=\"color:#9a159f;\">  Graph this to look at the full set of 10 class predictions. </h2>"
      ],
      "id": "147c3c67"
    },
    {
      "cell_type": "code",
      "metadata": {
        "id": "a753376a"
      },
      "source": [
        "class_names = [0,1,2,3,4,5,6,7,8,9]\n",
        "def digit_image(i, predictions_array, true_label, img):\n",
        "    true_label, img = true_label[i], img[i]\n",
        "    plt.grid(False)\n",
        "    plt.xticks([])\n",
        "    plt.yticks([])\n",
        "    \n",
        "    plt.imshow(img, cmap=plt.cm.binary)\n",
        "    \n",
        "    predicted_label = np.argmax(predictions_array)\n",
        "    if predicted_label == true_label:\n",
        "        color = 'green'\n",
        "        \n",
        "    else:\n",
        "        color = 'red'\n",
        "    plt.xlabel(\"{} {:2.0f}% ({})\".format(class_names[predicted_label],\n",
        "                                100*np.max(predictions_array),\n",
        "                                class_names[true_label]),\n",
        "                                color=color)\n",
        "    \n",
        "def digit_value_bar(i, predictions_array, true_label):\n",
        "    true_label = true_label[i]\n",
        "    plt.grid()\n",
        "    plt.xticks(range(10))\n",
        "    plt.yticks([])\n",
        "    thisplot = plt.bar(range(10), predictions_array, color=\"red\")\n",
        "    plt.ylim([0, 1])\n",
        "    predicted_label = np.argmax(predictions_array)\n",
        "    thisplot[predicted_label].set_color('red')\n",
        "    thisplot[true_label].set_color('green')\n"
      ],
      "id": "a753376a",
      "execution_count": null,
      "outputs": []
    },
    {
      "cell_type": "markdown",
      "metadata": {
        "id": "fc9d8c2b"
      },
      "source": [
        "* Let's plot several images with their predictions.\n",
        "* Let's look at the several images, predictions, and prediction array. Correct prediction labels are green and incorrect prediction labels are red. The number gives the percentage (out of 100) for the predicted label."
      ],
      "id": "fc9d8c2b"
    },
    {
      "cell_type": "code",
      "metadata": {
        "id": "21a7226d",
        "outputId": "5310e4ef-625f-456f-8e80-b8b4b5823285"
      },
      "source": [
        "# Plotting for one digit\n",
        "i = 4163\n",
        "plt.figure(figsize=(6,3))\n",
        "plt.subplot(1,2,1)\n",
        "digit_image(i, predictions[i], y_test, x_test)\n",
        "plt.subplot(1,2,2)\n",
        "digit_value_bar(i, predictions[i],  y_test)\n",
        "plt.show()"
      ],
      "id": "21a7226d",
      "execution_count": null,
      "outputs": [
        {
          "output_type": "display_data",
          "data": {
            "image/png": "[encoded data removed]",
            "text/plain": [
              "<Figure size 432x216 with 2 Axes>"
            ]
          },
          "metadata": {
            "tags": []
          }
        }
      ]
    },
    {
      "cell_type": "code",
      "metadata": {
        "id": "190a8a62",
        "outputId": "52ac6266-d4e7-45bd-b189-8d917c9f3b43"
      },
      "source": [
        "import matplotlib\n",
        "matplotlib.rc('axes',edgecolor='#acaaaa')\n",
        "# Plot the first X test images, their predicted labels, and the true labels.\n",
        "# Color correct predictions in green and incorrect predictions in red.\n",
        "num_rows = 5\n",
        "num_cols = 3\n",
        "num_images = num_rows*num_cols\n",
        "plt.figure(figsize=(2*2*num_cols, 2*num_rows))\n",
        "for i in range(num_images):\n",
        "  plt.subplot(num_rows, 2*num_cols, 2*i+1)\n",
        "  digit_image(i, predictions[i], y_test, x_test)\n",
        "  plt.subplot(num_rows, 2*num_cols, 2*i+2)\n",
        "  digit_value_bar(i, predictions[i], y_test)\n",
        "plt.tight_layout()\n",
        "plt.show()"
      ],
      "id": "190a8a62",
      "execution_count": null,
      "outputs": [
        {
          "output_type": "display_data",
          "data": {
            "image/png": "[encoded data removed]",
            "text/plain": [
              "<Figure size 864x720 with 30 Axes>"
            ]
          },
          "metadata": {
            "tags": []
          }
        }
      ]
    },
    {
      "cell_type": "markdown",
      "metadata": {
        "id": "4e95cd58"
      },
      "source": [
        "### WE ARE GETTING TRAINING ACCURACY OF 98% AND TESTING ACCURACY OF 98"
      ],
      "id": "4e95cd58"
    }
  ]
}